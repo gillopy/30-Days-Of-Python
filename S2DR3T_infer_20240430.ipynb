{
  "cells": [
    {
      "cell_type": "markdown",
      "metadata": {
        "id": "view-in-github",
        "colab_type": "text"
      },
      "source": [
        "<a href=\"https://colab.research.google.com/github/gillopy/30-Days-Of-Python/blob/master/S2DR3T_infer_20240430.ipynb\" target=\"_parent\"><img src=\"https://colab.research.google.com/assets/colab-badge.svg\" alt=\"Open In Colab\"/></a>"
      ]
    },
    {
      "cell_type": "markdown",
      "source": [
        "# Gamma Earth S2DR3 - Sentinel-2 Deep Resolution 3.0\n",
        "\n",
        "## Effective 10-Band 10x Single Image Super-Resolution for Sentinel-2\n",
        "\n",
        "The notebook showcases the performance of the S2DR3 module. Detailed description of the module, as well as performance analysis can be found in the following [white paper](https://medium.com/@ya_71389/c71a601a2253). Please contact info@gamma.earth for extended functionality, commercial use and other enquiries.\n",
        "\n",
        "S2DR3 module will fetch Sentinel-2 data for the provided location and data and will super-resolve the 10 multispectral bands from the original 10m and 20m resolution to the targe spatial resolution of 1m/px. The output is a 10-band 1m/px multispectral georeferenced TIF image. The output product will be generated in the local filesystem path '/content/output', which will contain 4 products:\n",
        "\n",
        "*   S2L2Ax10_T[MGRS]-[DATE]-[UID]_MS.tif – 10-band multi-spectal image\n",
        "*   S2L2Ax10_T[MGRS]-[DATE]-[UID]_TCI.tif – True colour RGB image\n",
        "*   S2L2Ax10_T[MGRS]-[DATE]-[UID]_NDVI.tif – Pseudo-colour NDVI image\n",
        "*   S2L2Ax10_T[MGRS]-[DATE]-[UID]_IRP.tif – Ifra-red preudo-colour image\n",
        "\n",
        "The order of the 10 bands in the multi-spectral product is:\n",
        "B02, B03, B04, B05, B06, B07, B08, B8A, B11, B12"
      ],
      "metadata": {
        "id": "9jeOuDMdnHaZ"
      }
    },
    {
      "cell_type": "markdown",
      "source": [
        "# Installation"
      ],
      "metadata": {
        "id": "BJd4KhPZpbNW"
      }
    },
    {
      "cell_type": "code",
      "source": [
        "# Make sure to select T4 GPU instance from the Runtime/Change-runtime-type menu\n",
        "\n",
        "!apt install -qq gdal-bin\n",
        "!pip -q install https://storage.googleapis.com/0x7ff601307fa5/s2dr3-20241009.1-cp310-cp310-linux_x86_64.whl"
      ],
      "metadata": {
        "id": "T-02GMkP_rvw",
        "colab": {
          "base_uri": "https://localhost:8080/"
        },
        "outputId": "47330851-d9fb-492a-ede8-c35012c45bf5"
      },
      "execution_count": 1,
      "outputs": [
        {
          "output_type": "stream",
          "name": "stdout",
          "text": [
            "The following additional packages will be installed:\n",
            "  python3-gdal python3-numpy\n",
            "Suggested packages:\n",
            "  libgdal-grass python-numpy-doc python3-pytest\n",
            "The following NEW packages will be installed:\n",
            "  gdal-bin python3-gdal python3-numpy\n",
            "0 upgraded, 3 newly installed, 0 to remove and 49 not upgraded.\n",
            "Need to get 5,055 kB of archives.\n",
            "After this operation, 25.1 MB of additional disk space will be used.\n",
            "Selecting previously unselected package python3-numpy.\n",
            "(Reading database ... 123621 files and directories currently installed.)\n",
            "Preparing to unpack .../python3-numpy_1%3a1.21.5-1ubuntu22.04.1_amd64.deb ...\n",
            "Unpacking python3-numpy (1:1.21.5-1ubuntu22.04.1) ...\n",
            "Selecting previously unselected package python3-gdal.\n",
            "Preparing to unpack .../python3-gdal_3.6.4+dfsg-1~jammy0_amd64.deb ...\n",
            "Unpacking python3-gdal (3.6.4+dfsg-1~jammy0) ...\n",
            "Selecting previously unselected package gdal-bin.\n",
            "Preparing to unpack .../gdal-bin_3.6.4+dfsg-1~jammy0_amd64.deb ...\n",
            "Unpacking gdal-bin (3.6.4+dfsg-1~jammy0) ...\n",
            "Setting up python3-numpy (1:1.21.5-1ubuntu22.04.1) ...\n",
            "Setting up python3-gdal (3.6.4+dfsg-1~jammy0) ...\n",
            "Setting up gdal-bin (3.6.4+dfsg-1~jammy0) ...\n",
            "Processing triggers for man-db (2.10.2-1) ...\n",
            "\u001b[2K     \u001b[90m━━━━━━━━━━━━━━━━━━━━━━━━━━━━━━━━━━━━━━━━\u001b[0m \u001b[32m2.0/2.0 MB\u001b[0m \u001b[31m25.7 MB/s\u001b[0m eta \u001b[36m0:00:00\u001b[0m\n",
            "\u001b[?25h  Preparing metadata (setup.py) ... \u001b[?25l\u001b[?25hdone\n",
            "\u001b[2K     \u001b[90m━━━━━━━━━━━━━━━━━━━━━━━━━━━━━━━━━━━━━━━━\u001b[0m \u001b[32m56.6/56.6 kB\u001b[0m \u001b[31m2.4 MB/s\u001b[0m eta \u001b[36m0:00:00\u001b[0m\n",
            "\u001b[2K   \u001b[90m━━━━━━━━━━━━━━━━━━━━━━━━━━━━━━━━━━━━━━━━\u001b[0m \u001b[32m139.1/139.1 kB\u001b[0m \u001b[31m7.6 MB/s\u001b[0m eta \u001b[36m0:00:00\u001b[0m\n",
            "\u001b[2K   \u001b[90m━━━━━━━━━━━━━━━━━━━━━━━━━━━━━━━━━━━━━━━━\u001b[0m \u001b[32m17.3/17.3 MB\u001b[0m \u001b[31m66.1 MB/s\u001b[0m eta \u001b[36m0:00:00\u001b[0m\n",
            "\u001b[2K   \u001b[90m━━━━━━━━━━━━━━━━━━━━━━━━━━━━━━━━━━━━━━━━\u001b[0m \u001b[32m1.2/1.2 MB\u001b[0m \u001b[31m46.5 MB/s\u001b[0m eta \u001b[36m0:00:00\u001b[0m\n",
            "\u001b[2K   \u001b[90m━━━━━━━━━━━━━━━━━━━━━━━━━━━━━━━━━━━━━━━━\u001b[0m \u001b[32m43.3/43.3 MB\u001b[0m \u001b[31m21.1 MB/s\u001b[0m eta \u001b[36m0:00:00\u001b[0m\n",
            "\u001b[2K   \u001b[90m━━━━━━━━━━━━━━━━━━━━━━━━━━━━━━━━━━━━━━━━\u001b[0m \u001b[32m88.6/88.6 kB\u001b[0m \u001b[31m8.4 MB/s\u001b[0m eta \u001b[36m0:00:00\u001b[0m\n",
            "\u001b[2K   \u001b[90m━━━━━━━━━━━━━━━━━━━━━━━━━━━━━━━━━━━━━━━━\u001b[0m \u001b[32m22.2/22.2 MB\u001b[0m \u001b[31m93.3 MB/s\u001b[0m eta \u001b[36m0:00:00\u001b[0m\n",
            "\u001b[2K   \u001b[90m━━━━━━━━━━━━━━━━━━━━━━━━━━━━━━━━━━━━━━━━\u001b[0m \u001b[32m61.0/61.0 kB\u001b[0m \u001b[31m5.5 MB/s\u001b[0m eta \u001b[36m0:00:00\u001b[0m\n",
            "\u001b[2K   \u001b[90m━━━━━━━━━━━━━━━━━━━━━━━━━━━━━━━━━━━━━━━━\u001b[0m \u001b[32m64.3/64.3 kB\u001b[0m \u001b[31m5.3 MB/s\u001b[0m eta \u001b[36m0:00:00\u001b[0m\n",
            "\u001b[2K   \u001b[90m━━━━━━━━━━━━━━━━━━━━━━━━━━━━━━━━━━━━━━━━\u001b[0m \u001b[32m12.6/12.6 MB\u001b[0m \u001b[31m109.2 MB/s\u001b[0m eta \u001b[36m0:00:00\u001b[0m\n",
            "\u001b[2K   \u001b[90m━━━━━━━━━━━━━━━━━━━━━━━━━━━━━━━━━━━━━━━━\u001b[0m \u001b[32m183.9/183.9 kB\u001b[0m \u001b[31m17.0 MB/s\u001b[0m eta \u001b[36m0:00:00\u001b[0m\n",
            "\u001b[2K   \u001b[90m━━━━━━━━━━━━━━━━━━━━━━━━━━━━━━━━━━━━━━━━\u001b[0m \u001b[32m82.6/82.6 kB\u001b[0m \u001b[31m8.0 MB/s\u001b[0m eta \u001b[36m0:00:00\u001b[0m\n",
            "\u001b[?25h  Building wheel for utm (setup.py) ... \u001b[?25l\u001b[?25hdone\n"
          ]
        }
      ]
    },
    {
      "cell_type": "markdown",
      "source": [
        "# Inference"
      ],
      "metadata": {
        "id": "8QB3deuppoqy"
      }
    },
    {
      "cell_type": "code",
      "source": [
        "import s2dr3.inferutils\n",
        "\n",
        "# Specify the target location in the Lon,Lat (X,Y) format.\n",
        "# The model will process a 4x4 km bounding box around the target location\n",
        "lonlat = (-55.33397, -24.16034) # NOTE THE X,Y FORMAT!\n",
        "\n",
        "# Specify the target date. Please note, S2DR3 model will process the date\n",
        "# from the Sentinel-2 catalogue that is closest to the specified date.\n",
        "# Selected date may be ocluded by clouds. Please consult the Copernucus\n",
        "# Dataspace for data availability https://browser.dataspace.copernicus.eu\n",
        "# Archive images are available from 2018-01-01.\n",
        "date = '2024-10-04'\n",
        "\n",
        "# Due to high demand, the preview link may take some time to load.\n",
        "# !!!Please note: the image below is just a small sample intended to indicate\n",
        "# successful complition of the inference. Click the generated preview link\n",
        "# to see the actual results.\n",
        "s2dr3.inferutils.test(lonlat, date)"
      ],
      "metadata": {
        "colab": {
          "base_uri": "https://localhost:8080/"
        },
        "id": "DXlqhQonAAGk",
        "outputId": "35bb04f7-8775-4692-8232-16cd9627a0be"
      },
      "execution_count": null,
      "outputs": [
        {
          "output_type": "stream",
          "name": "stderr",
          "text": [
            "Fetching model: 100%|██████████| 829M/829M [00:18<00:00, 43.7MiB/s]\n"
          ]
        }
      ]
    },
    {
      "cell_type": "markdown",
      "source": [
        "# License\n",
        "\n",
        "Copyright (c) Gamma Earth Sarl\n",
        "\n",
        "The software is provided for testing, performance evaluation and validation. All rights are reserved by the copyright owner. For extended functionality and commercial use please contact info@gamma.earth\n",
        "\n",
        "Please note that selected satellite images generated by anonymous users may be reused for publicity.\n",
        "\n",
        "THE SOFTWARE IS PROVIDED \"AS IS\", WITHOUT WARRANTY OF ANY KIND, EXPRESS OR\n",
        "IMPLIED, INCLUDING BUT NOT LIMITED TO THE WARRANTIES OF MERCHANTABILITY,\n",
        "FITNESS FOR A PARTICULAR PURPOSE AND NONINFRINGEMENT. IN NO EVENT SHALL THE\n",
        "AUTHORS OR COPYRIGHT HOLDERS BE LIABLE FOR ANY CLAIM, DAMAGES OR OTHER\n",
        "LIABILITY, WHETHER IN AN ACTION OF CONTRACT, TORT OR OTHERWISE, ARISING FROM,\n",
        "OUT OF OR IN CONNECTION WITH THE SOFTWARE OR THE USE OR OTHER DEALINGS IN THE\n",
        "SOFTWARE"
      ],
      "metadata": {
        "id": "XoCA_oizWi_g"
      }
    },
    {
      "cell_type": "code",
      "source": [],
      "metadata": {
        "id": "rbShWu0Bb7a8"
      },
      "execution_count": null,
      "outputs": []
    }
  ],
  "metadata": {
    "colab": {
      "machine_shape": "hm",
      "provenance": [],
      "gpuType": "T4",
      "include_colab_link": true
    },
    "kernelspec": {
      "display_name": "Python 3",
      "name": "python3"
    },
    "language_info": {
      "name": "python"
    },
    "accelerator": "GPU"
  },
  "nbformat": 4,
  "nbformat_minor": 0
}